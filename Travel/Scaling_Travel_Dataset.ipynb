{
 "cells": [
  {
   "cell_type": "markdown",
   "id": "a34a794a",
   "metadata": {},
   "source": [
    "# Scaling_Travel_Dataset"
   ]
  },
  {
   "cell_type": "code",
   "execution_count": 6,
   "id": "1919a559",
   "metadata": {},
   "outputs": [],
   "source": [
    "#Comment\n",
    "#Observation"
   ]
  },
  {
   "cell_type": "code",
   "execution_count": 41,
   "id": "0448f88d",
   "metadata": {},
   "outputs": [],
   "source": [
    "import pandas as pd\n",
    "from sklearn.preprocessing import MinMaxScaler\n",
    "from sklearn.preprocessing import StandardScaler\n",
    "import seaborn as sns"
   ]
  },
  {
   "cell_type": "code",
   "execution_count": 21,
   "id": "5001280a",
   "metadata": {},
   "outputs": [],
   "source": [
    "# 1) Scaling with sklearn MinMaxScaler doing one column at a time"
   ]
  },
  {
   "cell_type": "code",
   "execution_count": 26,
   "id": "9dd19369",
   "metadata": {},
   "outputs": [],
   "source": [
    "scaler = MinMaxScaler()"
   ]
  },
  {
   "cell_type": "code",
   "execution_count": 27,
   "id": "dc62abbe",
   "metadata": {},
   "outputs": [],
   "source": [
    "data=pd.read_csv(\"C:\\\\Users\\\\Admin\\\\PycharmProjects\\\\EDA&FeatureEngg\\\\Dataset\\\\data1\\\\Travel.csv\")"
   ]
  },
  {
   "cell_type": "code",
   "execution_count": 28,
   "id": "94b03b22",
   "metadata": {},
   "outputs": [],
   "source": [
    "df1=data"
   ]
  },
  {
   "cell_type": "code",
   "execution_count": 29,
   "id": "ec284d4b",
   "metadata": {},
   "outputs": [],
   "source": [
    "df1[[\"MonthlyIncome\"]] = scaler.fit_transform(df1[[\"MonthlyIncome\"]])"
   ]
  },
  {
   "cell_type": "code",
   "execution_count": 30,
   "id": "c5a5d17d",
   "metadata": {},
   "outputs": [
    {
     "data": {
      "text/html": [
       "<div>\n",
       "<style scoped>\n",
       "    .dataframe tbody tr th:only-of-type {\n",
       "        vertical-align: middle;\n",
       "    }\n",
       "\n",
       "    .dataframe tbody tr th {\n",
       "        vertical-align: top;\n",
       "    }\n",
       "\n",
       "    .dataframe thead th {\n",
       "        text-align: right;\n",
       "    }\n",
       "</style>\n",
       "<table border=\"1\" class=\"dataframe\">\n",
       "  <thead>\n",
       "    <tr style=\"text-align: right;\">\n",
       "      <th></th>\n",
       "      <th>MonthlyIncome</th>\n",
       "    </tr>\n",
       "  </thead>\n",
       "  <tbody>\n",
       "    <tr>\n",
       "      <th>0</th>\n",
       "      <td>0.204683</td>\n",
       "    </tr>\n",
       "    <tr>\n",
       "      <th>1</th>\n",
       "      <td>0.195848</td>\n",
       "    </tr>\n",
       "    <tr>\n",
       "      <th>2</th>\n",
       "      <td>0.164725</td>\n",
       "    </tr>\n",
       "    <tr>\n",
       "      <th>3</th>\n",
       "      <td>0.173110</td>\n",
       "    </tr>\n",
       "    <tr>\n",
       "      <th>4</th>\n",
       "      <td>0.178832</td>\n",
       "    </tr>\n",
       "  </tbody>\n",
       "</table>\n",
       "</div>"
      ],
      "text/plain": [
       "   MonthlyIncome\n",
       "0       0.204683\n",
       "1       0.195848\n",
       "2       0.164725\n",
       "3       0.173110\n",
       "4       0.178832"
      ]
     },
     "execution_count": 30,
     "metadata": {},
     "output_type": "execute_result"
    }
   ],
   "source": [
    "df1[[\"MonthlyIncome\"]].head()"
   ]
  },
  {
   "cell_type": "code",
   "execution_count": 31,
   "id": "5f2dc6b1",
   "metadata": {},
   "outputs": [],
   "source": [
    "# 2) Scaling with sklearn MinMaxScaler doing multiple columns at a time"
   ]
  },
  {
   "cell_type": "code",
   "execution_count": 37,
   "id": "dd0fc3ef",
   "metadata": {},
   "outputs": [],
   "source": [
    "df2=data"
   ]
  },
  {
   "cell_type": "code",
   "execution_count": 38,
   "id": "58da6658",
   "metadata": {},
   "outputs": [],
   "source": [
    "df2[[\"ScaledNumberOfTrips\", \"ScaledMonthlyIncome\"]] = scaler.fit_transform(\n",
    "    df2[[\"NumberOfTrips\", \"MonthlyIncome\"]])"
   ]
  },
  {
   "cell_type": "code",
   "execution_count": 39,
   "id": "8a61ebc4",
   "metadata": {},
   "outputs": [
    {
     "data": {
      "text/plain": [
       "Index(['CustomerID', 'ProdTaken', 'Age', 'TypeofContact', 'CityTier',\n",
       "       'DurationOfPitch', 'Occupation', 'Gender', 'NumberOfPersonVisiting',\n",
       "       'NumberOfFollowups', 'ProductPitched', 'PreferredPropertyStar',\n",
       "       'MaritalStatus', 'NumberOfTrips', 'Passport', 'PitchSatisfactionScore',\n",
       "       'OwnCar', 'NumberOfChildrenVisiting', 'Designation', 'MonthlyIncome',\n",
       "       'ScaledNumberOfTrips', 'ScaledMonthlyIncome'],\n",
       "      dtype='object')"
      ]
     },
     "execution_count": 39,
     "metadata": {},
     "output_type": "execute_result"
    }
   ],
   "source": [
    "df2.columns"
   ]
  },
  {
   "cell_type": "code",
   "execution_count": 40,
   "id": "db84123c",
   "metadata": {},
   "outputs": [
    {
     "data": {
      "text/html": [
       "<div>\n",
       "<style scoped>\n",
       "    .dataframe tbody tr th:only-of-type {\n",
       "        vertical-align: middle;\n",
       "    }\n",
       "\n",
       "    .dataframe tbody tr th {\n",
       "        vertical-align: top;\n",
       "    }\n",
       "\n",
       "    .dataframe thead th {\n",
       "        text-align: right;\n",
       "    }\n",
       "</style>\n",
       "<table border=\"1\" class=\"dataframe\">\n",
       "  <thead>\n",
       "    <tr style=\"text-align: right;\">\n",
       "      <th></th>\n",
       "      <th>CustomerID</th>\n",
       "      <th>ProdTaken</th>\n",
       "      <th>Age</th>\n",
       "      <th>TypeofContact</th>\n",
       "      <th>CityTier</th>\n",
       "      <th>DurationOfPitch</th>\n",
       "      <th>Occupation</th>\n",
       "      <th>Gender</th>\n",
       "      <th>NumberOfPersonVisiting</th>\n",
       "      <th>NumberOfFollowups</th>\n",
       "      <th>...</th>\n",
       "      <th>MaritalStatus</th>\n",
       "      <th>NumberOfTrips</th>\n",
       "      <th>Passport</th>\n",
       "      <th>PitchSatisfactionScore</th>\n",
       "      <th>OwnCar</th>\n",
       "      <th>NumberOfChildrenVisiting</th>\n",
       "      <th>Designation</th>\n",
       "      <th>MonthlyIncome</th>\n",
       "      <th>ScaledNumberOfTrips</th>\n",
       "      <th>ScaledMonthlyIncome</th>\n",
       "    </tr>\n",
       "  </thead>\n",
       "  <tbody>\n",
       "    <tr>\n",
       "      <th>0</th>\n",
       "      <td>200000</td>\n",
       "      <td>1</td>\n",
       "      <td>41.0</td>\n",
       "      <td>Self Enquiry</td>\n",
       "      <td>3</td>\n",
       "      <td>6.0</td>\n",
       "      <td>Salaried</td>\n",
       "      <td>Female</td>\n",
       "      <td>3</td>\n",
       "      <td>3.0</td>\n",
       "      <td>...</td>\n",
       "      <td>Single</td>\n",
       "      <td>1.0</td>\n",
       "      <td>1</td>\n",
       "      <td>2</td>\n",
       "      <td>1</td>\n",
       "      <td>0.0</td>\n",
       "      <td>Manager</td>\n",
       "      <td>0.204683</td>\n",
       "      <td>0.000000</td>\n",
       "      <td>0.204683</td>\n",
       "    </tr>\n",
       "    <tr>\n",
       "      <th>1</th>\n",
       "      <td>200001</td>\n",
       "      <td>0</td>\n",
       "      <td>49.0</td>\n",
       "      <td>Company Invited</td>\n",
       "      <td>1</td>\n",
       "      <td>14.0</td>\n",
       "      <td>Salaried</td>\n",
       "      <td>Male</td>\n",
       "      <td>3</td>\n",
       "      <td>4.0</td>\n",
       "      <td>...</td>\n",
       "      <td>Divorced</td>\n",
       "      <td>2.0</td>\n",
       "      <td>0</td>\n",
       "      <td>3</td>\n",
       "      <td>1</td>\n",
       "      <td>2.0</td>\n",
       "      <td>Manager</td>\n",
       "      <td>0.195848</td>\n",
       "      <td>0.047619</td>\n",
       "      <td>0.195848</td>\n",
       "    </tr>\n",
       "    <tr>\n",
       "      <th>2</th>\n",
       "      <td>200002</td>\n",
       "      <td>1</td>\n",
       "      <td>37.0</td>\n",
       "      <td>Self Enquiry</td>\n",
       "      <td>1</td>\n",
       "      <td>8.0</td>\n",
       "      <td>Free Lancer</td>\n",
       "      <td>Male</td>\n",
       "      <td>3</td>\n",
       "      <td>4.0</td>\n",
       "      <td>...</td>\n",
       "      <td>Single</td>\n",
       "      <td>7.0</td>\n",
       "      <td>1</td>\n",
       "      <td>3</td>\n",
       "      <td>0</td>\n",
       "      <td>0.0</td>\n",
       "      <td>Executive</td>\n",
       "      <td>0.164725</td>\n",
       "      <td>0.285714</td>\n",
       "      <td>0.164725</td>\n",
       "    </tr>\n",
       "    <tr>\n",
       "      <th>3</th>\n",
       "      <td>200003</td>\n",
       "      <td>0</td>\n",
       "      <td>33.0</td>\n",
       "      <td>Company Invited</td>\n",
       "      <td>1</td>\n",
       "      <td>9.0</td>\n",
       "      <td>Salaried</td>\n",
       "      <td>Female</td>\n",
       "      <td>2</td>\n",
       "      <td>3.0</td>\n",
       "      <td>...</td>\n",
       "      <td>Divorced</td>\n",
       "      <td>2.0</td>\n",
       "      <td>1</td>\n",
       "      <td>5</td>\n",
       "      <td>1</td>\n",
       "      <td>1.0</td>\n",
       "      <td>Executive</td>\n",
       "      <td>0.173110</td>\n",
       "      <td>0.047619</td>\n",
       "      <td>0.173110</td>\n",
       "    </tr>\n",
       "    <tr>\n",
       "      <th>4</th>\n",
       "      <td>200004</td>\n",
       "      <td>0</td>\n",
       "      <td>NaN</td>\n",
       "      <td>Self Enquiry</td>\n",
       "      <td>1</td>\n",
       "      <td>8.0</td>\n",
       "      <td>Small Business</td>\n",
       "      <td>Male</td>\n",
       "      <td>2</td>\n",
       "      <td>3.0</td>\n",
       "      <td>...</td>\n",
       "      <td>Divorced</td>\n",
       "      <td>1.0</td>\n",
       "      <td>0</td>\n",
       "      <td>5</td>\n",
       "      <td>1</td>\n",
       "      <td>0.0</td>\n",
       "      <td>Executive</td>\n",
       "      <td>0.178832</td>\n",
       "      <td>0.000000</td>\n",
       "      <td>0.178832</td>\n",
       "    </tr>\n",
       "  </tbody>\n",
       "</table>\n",
       "<p>5 rows × 22 columns</p>\n",
       "</div>"
      ],
      "text/plain": [
       "   CustomerID  ProdTaken   Age    TypeofContact  CityTier  DurationOfPitch  \\\n",
       "0      200000          1  41.0     Self Enquiry         3              6.0   \n",
       "1      200001          0  49.0  Company Invited         1             14.0   \n",
       "2      200002          1  37.0     Self Enquiry         1              8.0   \n",
       "3      200003          0  33.0  Company Invited         1              9.0   \n",
       "4      200004          0   NaN     Self Enquiry         1              8.0   \n",
       "\n",
       "       Occupation  Gender  NumberOfPersonVisiting  NumberOfFollowups  ...  \\\n",
       "0        Salaried  Female                       3                3.0  ...   \n",
       "1        Salaried    Male                       3                4.0  ...   \n",
       "2     Free Lancer    Male                       3                4.0  ...   \n",
       "3        Salaried  Female                       2                3.0  ...   \n",
       "4  Small Business    Male                       2                3.0  ...   \n",
       "\n",
       "  MaritalStatus  NumberOfTrips Passport  PitchSatisfactionScore  OwnCar  \\\n",
       "0        Single            1.0        1                       2       1   \n",
       "1      Divorced            2.0        0                       3       1   \n",
       "2        Single            7.0        1                       3       0   \n",
       "3      Divorced            2.0        1                       5       1   \n",
       "4      Divorced            1.0        0                       5       1   \n",
       "\n",
       "   NumberOfChildrenVisiting  Designation  MonthlyIncome ScaledNumberOfTrips  \\\n",
       "0                       0.0      Manager       0.204683            0.000000   \n",
       "1                       2.0      Manager       0.195848            0.047619   \n",
       "2                       0.0    Executive       0.164725            0.285714   \n",
       "3                       1.0    Executive       0.173110            0.047619   \n",
       "4                       0.0    Executive       0.178832            0.000000   \n",
       "\n",
       "   ScaledMonthlyIncome  \n",
       "0             0.204683  \n",
       "1             0.195848  \n",
       "2             0.164725  \n",
       "3             0.173110  \n",
       "4             0.178832  \n",
       "\n",
       "[5 rows x 22 columns]"
      ]
     },
     "execution_count": 40,
     "metadata": {},
     "output_type": "execute_result"
    }
   ],
   "source": [
    "df2.head()"
   ]
  },
  {
   "cell_type": "code",
   "execution_count": 4,
   "id": "0051a2d5",
   "metadata": {},
   "outputs": [],
   "source": [
    "# 3) Scaling using standardization"
   ]
  },
  {
   "cell_type": "code",
   "execution_count": 56,
   "id": "df59f72e",
   "metadata": {},
   "outputs": [],
   "source": [
    "scaler = StandardScaler()"
   ]
  },
  {
   "cell_type": "code",
   "execution_count": 57,
   "id": "bc06bd40",
   "metadata": {},
   "outputs": [],
   "source": [
    "df3_Scaled = pd.DataFrame(data, columns=['NumberOfTrips','MonthlyIncome'])"
   ]
  },
  {
   "cell_type": "code",
   "execution_count": 58,
   "id": "f4183dc2",
   "metadata": {},
   "outputs": [],
   "source": [
    "df3_Scaled[['NumberOfTrips', 'MonthlyIncome']] = scaler.fit_transform(df3_Scaled[['NumberOfTrips','MonthlyIncome']].to_numpy())"
   ]
  },
  {
   "cell_type": "code",
   "execution_count": 59,
   "id": "fe86997e",
   "metadata": {},
   "outputs": [
    {
     "data": {
      "text/html": [
       "<div>\n",
       "<style scoped>\n",
       "    .dataframe tbody tr th:only-of-type {\n",
       "        vertical-align: middle;\n",
       "    }\n",
       "\n",
       "    .dataframe tbody tr th {\n",
       "        vertical-align: top;\n",
       "    }\n",
       "\n",
       "    .dataframe thead th {\n",
       "        text-align: right;\n",
       "    }\n",
       "</style>\n",
       "<table border=\"1\" class=\"dataframe\">\n",
       "  <thead>\n",
       "    <tr style=\"text-align: right;\">\n",
       "      <th></th>\n",
       "      <th>NumberOfTrips</th>\n",
       "      <th>MonthlyIncome</th>\n",
       "    </tr>\n",
       "  </thead>\n",
       "  <tbody>\n",
       "    <tr>\n",
       "      <th>0</th>\n",
       "      <td>-1.209699</td>\n",
       "      <td>-0.488252</td>\n",
       "    </tr>\n",
       "    <tr>\n",
       "      <th>1</th>\n",
       "      <td>-0.668814</td>\n",
       "      <td>-0.648657</td>\n",
       "    </tr>\n",
       "    <tr>\n",
       "      <th>2</th>\n",
       "      <td>2.035607</td>\n",
       "      <td>-1.213700</td>\n",
       "    </tr>\n",
       "    <tr>\n",
       "      <th>3</th>\n",
       "      <td>-0.668814</td>\n",
       "      <td>-1.061473</td>\n",
       "    </tr>\n",
       "    <tr>\n",
       "      <th>4</th>\n",
       "      <td>-1.209699</td>\n",
       "      <td>-0.957572</td>\n",
       "    </tr>\n",
       "  </tbody>\n",
       "</table>\n",
       "</div>"
      ],
      "text/plain": [
       "   NumberOfTrips  MonthlyIncome\n",
       "0      -1.209699      -0.488252\n",
       "1      -0.668814      -0.648657\n",
       "2       2.035607      -1.213700\n",
       "3      -0.668814      -1.061473\n",
       "4      -1.209699      -0.957572"
      ]
     },
     "execution_count": 59,
     "metadata": {},
     "output_type": "execute_result"
    }
   ],
   "source": [
    "df3_Scaled.head()"
   ]
  },
  {
   "cell_type": "code",
   "execution_count": null,
   "id": "d712c909",
   "metadata": {},
   "outputs": [],
   "source": []
  }
 ],
 "metadata": {
  "kernelspec": {
   "display_name": "Python 3 (ipykernel)",
   "language": "python",
   "name": "python3"
  },
  "language_info": {
   "codemirror_mode": {
    "name": "ipython",
    "version": 3
   },
   "file_extension": ".py",
   "mimetype": "text/x-python",
   "name": "python",
   "nbconvert_exporter": "python",
   "pygments_lexer": "ipython3",
   "version": "3.9.12"
  }
 },
 "nbformat": 4,
 "nbformat_minor": 5
}
